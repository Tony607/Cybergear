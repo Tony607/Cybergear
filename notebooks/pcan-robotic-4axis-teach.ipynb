{
 "cells": [
  {
   "cell_type": "markdown",
   "id": "60d186d5",
   "metadata": {},
   "source": [
    "# 四轴示教"
   ]
  },
  {
   "cell_type": "code",
   "execution_count": null,
   "id": "a8708012",
   "metadata": {},
   "outputs": [],
   "source": [
    "import os\n",
    "import sys\n",
    "# 添加pcan_cybergear库的路径\n",
    "sys.path.append(os.path.join(\"..\", \"cybergear\"))\n",
    "\n",
    "from pcan_cybergear import CANMotorController\n",
    "import can\n",
    "import logging\n",
    "import time\n",
    "# Initialize logging\n",
    "logging.basicConfig(level=logging.INFO, format='%(asctime)s - %(levelname)s - %(message)s')"
   ]
  },
  {
   "cell_type": "code",
   "execution_count": null,
   "id": "bcee4222",
   "metadata": {},
   "outputs": [],
   "source": [
    "# Connect to the CAN bus with 1 Mbit/s bitrate\n",
    "bus = can.interface.Bus(interface=\"pcan\", channel=\"PCAN_USBBUS1\", bitrate=1000000)\n",
    "motor1 = CANMotorController(bus, motor_id=101, main_can_id=254)\n",
    "motor2 = CANMotorController(bus, motor_id=102, main_can_id=254)\n",
    "motor3 = CANMotorController(bus, motor_id=103, main_can_id=254)\n",
    "motor4 = CANMotorController(bus, motor_id=104, main_can_id=254)\n",
    "\n",
    "motors = [motor1, motor2, motor3, motor4]"
   ]
  },
  {
   "cell_type": "code",
   "execution_count": null,
   "id": "b51555a0",
   "metadata": {},
   "outputs": [],
   "source": [
    "# 写参数表\n",
    "for motor in motors:\n",
    "    motor.write_param_table(\"limit_cur\", 1.5)\n",
    "    motor.write_param_table(\"loc_kp\", 8)\n",
    "    motor.write_param_table(\"spd_kp\", 2)\n",
    "    motor.write_param_table(\"spd_ki\", 0.03)\n",
    "motor2.write_param_table(\"limit_cur\", 3)"
   ]
  },
  {
   "cell_type": "markdown",
   "id": "86cb5366",
   "metadata": {},
   "source": [
    "## 初始化"
   ]
  },
  {
   "cell_type": "code",
   "execution_count": null,
   "id": "d0ea5625",
   "metadata": {},
   "outputs": [],
   "source": [
    "for motor in motors:\n",
    "    motor.disable()\n",
    "    motor.set_0_pos()\n",
    "    motor.set_run_mode(motor.RunModes.POSITION_MODE) # 位置模式\n",
    "    motor.write_single_param(\"loc_ref\", value=0) # 目标位置\n",
    "\n",
    "motor1.write_single_param(\"limit_spd\", value=1) # 最大速度 rad/s\n",
    "motor2.write_single_param(\"limit_spd\", value=1) # 最大速度 rad/s\n",
    "motor3.write_single_param(\"limit_spd\", value=1) # 最大速度 rad/s\n",
    "motor4.write_single_param(\"limit_spd\", value=1) # 最大速度 rad/s"
   ]
  },
  {
   "cell_type": "code",
   "execution_count": null,
   "id": "a50f5b9d",
   "metadata": {},
   "outputs": [],
   "source": [
    "for motor in motors:\n",
    "    motor.enable()"
   ]
  },
  {
   "cell_type": "code",
   "execution_count": null,
   "id": "a07fba09",
   "metadata": {},
   "outputs": [],
   "source": [
    "import time\n",
    "motor4.write_single_param(\"loc_ref\", value=-0.5)\n",
    "time.sleep(1.5)\n",
    "motor4.write_single_param(\"loc_ref\", value=0.5)\n",
    "time.sleep(1.5)\n",
    "motor4.write_single_param(\"loc_ref\", value=0)"
   ]
  },
  {
   "cell_type": "code",
   "execution_count": null,
   "id": "98831b4d",
   "metadata": {},
   "outputs": [],
   "source": [
    "for motor in motors:\n",
    "    motor.disable()\n",
    "    motor.set_0_pos()"
   ]
  },
  {
   "cell_type": "markdown",
   "id": "ef79902b",
   "metadata": {},
   "source": [
    "# 示教"
   ]
  },
  {
   "cell_type": "code",
   "execution_count": null,
   "id": "26ebdb57",
   "metadata": {},
   "outputs": [],
   "source": [
    "import csv\n",
    "import time\n",
    "\n",
    "# 保存点位信息到CSV文件\n",
    "def save_positions_to_csv(positions, filename=\"positions.csv\"):\n",
    "    with open(filename, mode='w', newline='') as file:\n",
    "        writer = csv.writer(file)\n",
    "        writer.writerow([\"motor1\", \"motor2\", \"motor3\", \"motor4\"])\n",
    "        for position in positions:\n",
    "            writer.writerow([position[0], position[1], position[2], position[3]])\n",
    "\n",
    "# 从CSV文件加载点位信息\n",
    "def load_positions_from_csv(filename=\"positions.csv\"):\n",
    "    positions = []\n",
    "    with open(filename, mode='r') as file:\n",
    "        csv_reader = csv.reader(file)\n",
    "        next(csv_reader)  # skip header\n",
    "        for row in csv_reader:\n",
    "            positions.append([float(row[0]), float(row[1]), float(row[2]), float(row[3])])\n",
    "    return positions\n"
   ]
  },
  {
   "cell_type": "code",
   "execution_count": null,
   "id": "e8a5262b",
   "metadata": {},
   "outputs": [],
   "source": [
    "positions = []\n",
    "\n",
    "while True:\n",
    "    action = input(\"Press Enter to record the current position, or 'x' to exit: \")\n",
    "\n",
    "    if action == \"x\":\n",
    "        break\n",
    "    _, pos1, _, _ = motor1.write_single_param(\"loc_ref\", value=0)\n",
    "    _, pos2, _, _ = motor2.write_single_param(\"loc_ref\", value=0)\n",
    "    _, pos3, _, _ = motor3.write_single_param(\"loc_ref\", value=0)\n",
    "    _, pos4, _, _ = motor4.write_single_param(\"loc_ref\", value=0)\n",
    "    pos = [pos1, pos2, pos3, pos4]\n",
    "    logging.info(pos)\n",
    "    positions.append(pos)"
   ]
  },
  {
   "cell_type": "code",
   "execution_count": null,
   "id": "11f43926",
   "metadata": {},
   "outputs": [],
   "source": [
    "len(positions)"
   ]
  },
  {
   "cell_type": "code",
   "execution_count": null,
   "id": "78f82f7b",
   "metadata": {},
   "outputs": [],
   "source": [
    "save_positions_to_csv(positions)"
   ]
  },
  {
   "cell_type": "code",
   "execution_count": null,
   "id": "cd465e31",
   "metadata": {},
   "outputs": [],
   "source": [
    "import pandas as pd\n",
    "pd.read_csv(\"positions.csv\")"
   ]
  },
  {
   "cell_type": "code",
   "execution_count": null,
   "id": "35022b31",
   "metadata": {},
   "outputs": [],
   "source": [
    "motor1.write_single_param(\"limit_spd\", value=1) # 最大速度 rad/s\n",
    "motor2.write_single_param(\"limit_spd\", value=1) # 最大速度 rad/s\n",
    "motor3.write_single_param(\"limit_spd\", value=1) # 最大速度 rad/s\n",
    "motor4.write_single_param(\"limit_spd\", value=1) # 最大速度 rad/s"
   ]
  },
  {
   "cell_type": "code",
   "execution_count": null,
   "id": "4c39efdc",
   "metadata": {},
   "outputs": [],
   "source": [
    "for motor in motors:\n",
    "    motor.write_single_param(\"loc_ref\", value=0)\n",
    "    motor.enable()"
   ]
  },
  {
   "cell_type": "code",
   "execution_count": null,
   "id": "158cca77",
   "metadata": {},
   "outputs": [],
   "source": [
    "loaded_positions = load_positions_from_csv()\n",
    "\n",
    "for position in loaded_positions:\n",
    "    logging.info(position)\n",
    "    for i, motor in enumerate(motors):\n",
    "        motor.write_single_param(\"loc_ref\", value=position[i])\n",
    "    time.sleep(1.5)  # 等待电机移动到目标位置\n",
    "\n",
    "for motor in motors:\n",
    "    motor.write_single_param(\"loc_ref\", value=0)"
   ]
  },
  {
   "cell_type": "code",
   "execution_count": null,
   "id": "7ccbdbd2",
   "metadata": {},
   "outputs": [],
   "source": [
    "for motor in motors:\n",
    "    motor.disable()"
   ]
  },
  {
   "cell_type": "code",
   "execution_count": null,
   "id": "c27bca78",
   "metadata": {},
   "outputs": [],
   "source": []
  }
 ],
 "metadata": {
  "kernelspec": {
   "display_name": "Python 3 (ipykernel)",
   "language": "python",
   "name": "python3"
  },
  "language_info": {
   "codemirror_mode": {
    "name": "ipython",
    "version": 3
   },
   "file_extension": ".py",
   "mimetype": "text/x-python",
   "name": "python",
   "nbconvert_exporter": "python",
   "pygments_lexer": "ipython3",
   "version": "3.9.7"
  }
 },
 "nbformat": 4,
 "nbformat_minor": 5
}
